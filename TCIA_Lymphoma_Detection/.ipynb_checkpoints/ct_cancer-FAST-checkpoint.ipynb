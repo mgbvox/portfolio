{
 "cells": [
  {
   "cell_type": "markdown",
   "metadata": {},
   "source": [
    "# Detecting Lymphoma with Fast.AI\n",
    "We've downloaded, processes, and balanced our data - now let's train the dang thing! First some imports:"
   ]
  },
  {
   "cell_type": "code",
   "execution_count": 2,
   "metadata": {},
   "outputs": [
    {
     "name": "stdout",
     "output_type": "stream",
     "text": [
      "Populating the interactive namespace from numpy and matplotlib\n"
     ]
    }
   ],
   "source": [
    "%reload_ext autoreload\n",
    "%autoreload 2\n",
    "%pylab inline"
   ]
  },
  {
   "cell_type": "code",
   "execution_count": 3,
   "metadata": {},
   "outputs": [],
   "source": [
    "from fastai.vision import *\n",
    "from fastai.metrics import error_rate, dice\n",
    "from fastai.callbacks import SaveModelCallback\n",
    "\n",
    "from sklearn.metrics import roc_curve, auc\n",
    "from sklearn.metrics import roc_auc_score"
   ]
  },
  {
   "cell_type": "markdown",
   "metadata": {},
   "source": [
    "### Configure the Data Pipeline\n",
    "Using Fast.AI's handy ImageDataBunch class, we can load, augment, and set everything up to flow our image data directly into Resnet50 with a near **comical** amount of code:"
   ]
  },
  {
   "cell_type": "code",
   "execution_count": 4,
   "metadata": {},
   "outputs": [],
   "source": [
    "bs = 16\n",
    "data_path = pathlib.Path('./data/ct_balanced')\n",
    "data = ImageDataBunch.from_folder(data_path, ds_tfms=get_transforms(), bs=bs).normalize(imagenet_stats)\n",
    "learn = cnn_learner(data, models.resnet50, metrics=[error_rate, dice, accuracy])"
   ]
  },
  {
   "cell_type": "markdown",
   "metadata": {},
   "source": [
    "### Yes, that was it.\n",
    "You can now implement the state-of-the-art in image detection in four lines of code.\n",
    "\n",
    "### Finding Learning Rate\n",
    "Fast.AI has another handy method, lr_find(), that finds the optimal learning rate for your network given your data. Let's run that real quick:"
   ]
  },
  {
   "cell_type": "code",
   "execution_count": 8,
   "metadata": {},
   "outputs": [
    {
     "data": {
      "text/html": [],
      "text/plain": [
       "<IPython.core.display.HTML object>"
      ]
     },
     "metadata": {},
     "output_type": "display_data"
    },
    {
     "name": "stdout",
     "output_type": "stream",
     "text": [
      "LR Finder is complete, type {learner_name}.recorder.plot() to see the graph.\n"
     ]
    },
    {
     "data": {
      "image/png": "[encoded data removed]",
      "text/plain": [
       "<Figure size 432x288 with 1 Axes>"
      ]
     },
     "metadata": {
      "needs_background": "light"
     },
     "output_type": "display_data"
    }
   ],
   "source": [
    "learn.lr_find()\n",
    "learn.recorder.plot()"
   ]
  },
  {
   "cell_type": "markdown",
   "metadata": {},
   "source": [
    "### Training our Model\n",
    "Somewhat counterintuitively, we DON'T want to pick the minimum value from the lr_find() plot - rather, we want to pick a satisfactorily low value adjacent to the minimum to avoid exploding loss. [This is all explained quite well here.](https://sgugger.github.io/how-do-you-find-a-good-learning-rate.html)\n",
    "\n",
    "Finally, fit the model using the selected range of learning rates, using the SaveModelCallback (monitoring error rate on the validation set) to save the best model weights over the training period."
   ]
  },
  {
   "cell_type": "code",
   "execution_count": 11,
   "metadata": {},
   "outputs": [
    {
     "data": {
      "text/html": [
       "<table border=\"1\" class=\"dataframe\">\n",
       "  <thead>\n",
       "    <tr style=\"text-align: left;\">\n",
       "      <th>epoch</th>\n",
       "      <th>train_loss</th>\n",
       "      <th>valid_loss</th>\n",
       "      <th>error_rate</th>\n",
       "      <th>dice</th>\n",
       "      <th>accuracy</th>\n",
       "      <th>time</th>\n",
       "    </tr>\n",
       "  </thead>\n",
       "  <tbody>\n",
       "    <tr>\n",
       "      <td>0</td>\n",
       "      <td>0.931646</td>\n",
       "      <td>0.722812</td>\n",
       "      <td>0.413636</td>\n",
       "      <td>0.166234</td>\n",
       "      <td>0.586364</td>\n",
       "      <td>01:05</td>\n",
       "    </tr>\n",
       "    <tr>\n",
       "      <td>1</td>\n",
       "      <td>0.743695</td>\n",
       "      <td>0.601410</td>\n",
       "      <td>0.236364</td>\n",
       "      <td>0.287001</td>\n",
       "      <td>0.763636</td>\n",
       "      <td>00:56</td>\n",
       "    </tr>\n",
       "    <tr>\n",
       "      <td>2</td>\n",
       "      <td>0.673494</td>\n",
       "      <td>0.633836</td>\n",
       "      <td>0.268182</td>\n",
       "      <td>0.118467</td>\n",
       "      <td>0.731818</td>\n",
       "      <td>00:57</td>\n",
       "    </tr>\n",
       "    <tr>\n",
       "      <td>3</td>\n",
       "      <td>0.630940</td>\n",
       "      <td>0.682880</td>\n",
       "      <td>0.263636</td>\n",
       "      <td>0.152539</td>\n",
       "      <td>0.736364</td>\n",
       "      <td>00:56</td>\n",
       "    </tr>\n",
       "    <tr>\n",
       "      <td>4</td>\n",
       "      <td>0.592341</td>\n",
       "      <td>0.564287</td>\n",
       "      <td>0.245455</td>\n",
       "      <td>0.121574</td>\n",
       "      <td>0.754545</td>\n",
       "      <td>00:56</td>\n",
       "    </tr>\n",
       "    <tr>\n",
       "      <td>5</td>\n",
       "      <td>0.557728</td>\n",
       "      <td>0.845953</td>\n",
       "      <td>0.268182</td>\n",
       "      <td>0.154113</td>\n",
       "      <td>0.731818</td>\n",
       "      <td>00:57</td>\n",
       "    </tr>\n",
       "    <tr>\n",
       "      <td>6</td>\n",
       "      <td>0.540226</td>\n",
       "      <td>0.808907</td>\n",
       "      <td>0.272727</td>\n",
       "      <td>0.200936</td>\n",
       "      <td>0.727273</td>\n",
       "      <td>00:57</td>\n",
       "    </tr>\n",
       "    <tr>\n",
       "      <td>7</td>\n",
       "      <td>0.552087</td>\n",
       "      <td>0.675442</td>\n",
       "      <td>0.318182</td>\n",
       "      <td>0.224090</td>\n",
       "      <td>0.681818</td>\n",
       "      <td>00:56</td>\n",
       "    </tr>\n",
       "    <tr>\n",
       "      <td>8</td>\n",
       "      <td>0.535616</td>\n",
       "      <td>0.737109</td>\n",
       "      <td>0.240909</td>\n",
       "      <td>0.185972</td>\n",
       "      <td>0.759091</td>\n",
       "      <td>00:57</td>\n",
       "    </tr>\n",
       "    <tr>\n",
       "      <td>9</td>\n",
       "      <td>0.515224</td>\n",
       "      <td>0.720907</td>\n",
       "      <td>0.204545</td>\n",
       "      <td>0.494673</td>\n",
       "      <td>0.795455</td>\n",
       "      <td>00:56</td>\n",
       "    </tr>\n",
       "    <tr>\n",
       "      <td>10</td>\n",
       "      <td>0.539582</td>\n",
       "      <td>0.647172</td>\n",
       "      <td>0.236364</td>\n",
       "      <td>0.223621</td>\n",
       "      <td>0.763636</td>\n",
       "      <td>00:56</td>\n",
       "    </tr>\n",
       "    <tr>\n",
       "      <td>11</td>\n",
       "      <td>0.503970</td>\n",
       "      <td>0.684327</td>\n",
       "      <td>0.281818</td>\n",
       "      <td>0.268970</td>\n",
       "      <td>0.718182</td>\n",
       "      <td>00:56</td>\n",
       "    </tr>\n",
       "    <tr>\n",
       "      <td>12</td>\n",
       "      <td>0.443723</td>\n",
       "      <td>0.645376</td>\n",
       "      <td>0.263636</td>\n",
       "      <td>0.278279</td>\n",
       "      <td>0.736364</td>\n",
       "      <td>00:57</td>\n",
       "    </tr>\n",
       "    <tr>\n",
       "      <td>13</td>\n",
       "      <td>0.435676</td>\n",
       "      <td>0.668344</td>\n",
       "      <td>0.236364</td>\n",
       "      <td>0.383848</td>\n",
       "      <td>0.763636</td>\n",
       "      <td>00:56</td>\n",
       "    </tr>\n",
       "    <tr>\n",
       "      <td>14</td>\n",
       "      <td>0.389380</td>\n",
       "      <td>0.597966</td>\n",
       "      <td>0.209091</td>\n",
       "      <td>0.279824</td>\n",
       "      <td>0.790909</td>\n",
       "      <td>00:57</td>\n",
       "    </tr>\n",
       "    <tr>\n",
       "      <td>15</td>\n",
       "      <td>0.369732</td>\n",
       "      <td>0.695151</td>\n",
       "      <td>0.245455</td>\n",
       "      <td>0.197843</td>\n",
       "      <td>0.754545</td>\n",
       "      <td>00:57</td>\n",
       "    </tr>\n",
       "    <tr>\n",
       "      <td>16</td>\n",
       "      <td>0.351179</td>\n",
       "      <td>0.495203</td>\n",
       "      <td>0.213636</td>\n",
       "      <td>0.329708</td>\n",
       "      <td>0.786364</td>\n",
       "      <td>00:57</td>\n",
       "    </tr>\n",
       "    <tr>\n",
       "      <td>17</td>\n",
       "      <td>0.322454</td>\n",
       "      <td>0.879095</td>\n",
       "      <td>0.240909</td>\n",
       "      <td>0.199736</td>\n",
       "      <td>0.759091</td>\n",
       "      <td>00:56</td>\n",
       "    </tr>\n",
       "    <tr>\n",
       "      <td>18</td>\n",
       "      <td>0.295800</td>\n",
       "      <td>0.713667</td>\n",
       "      <td>0.204545</td>\n",
       "      <td>0.197818</td>\n",
       "      <td>0.795455</td>\n",
       "      <td>00:57</td>\n",
       "    </tr>\n",
       "    <tr>\n",
       "      <td>19</td>\n",
       "      <td>0.266032</td>\n",
       "      <td>0.770631</td>\n",
       "      <td>0.231818</td>\n",
       "      <td>0.253635</td>\n",
       "      <td>0.768182</td>\n",
       "      <td>00:57</td>\n",
       "    </tr>\n",
       "    <tr>\n",
       "      <td>20</td>\n",
       "      <td>0.232407</td>\n",
       "      <td>0.922864</td>\n",
       "      <td>0.236364</td>\n",
       "      <td>0.255642</td>\n",
       "      <td>0.763636</td>\n",
       "      <td>00:57</td>\n",
       "    </tr>\n",
       "    <tr>\n",
       "      <td>21</td>\n",
       "      <td>0.204559</td>\n",
       "      <td>0.886358</td>\n",
       "      <td>0.236364</td>\n",
       "      <td>0.233370</td>\n",
       "      <td>0.763636</td>\n",
       "      <td>00:57</td>\n",
       "    </tr>\n",
       "    <tr>\n",
       "      <td>22</td>\n",
       "      <td>0.181221</td>\n",
       "      <td>0.833003</td>\n",
       "      <td>0.209091</td>\n",
       "      <td>0.243107</td>\n",
       "      <td>0.790909</td>\n",
       "      <td>00:56</td>\n",
       "    </tr>\n",
       "    <tr>\n",
       "      <td>23</td>\n",
       "      <td>0.134592</td>\n",
       "      <td>0.910445</td>\n",
       "      <td>0.240909</td>\n",
       "      <td>0.174783</td>\n",
       "      <td>0.759091</td>\n",
       "      <td>00:56</td>\n",
       "    </tr>\n",
       "    <tr>\n",
       "      <td>24</td>\n",
       "      <td>0.128482</td>\n",
       "      <td>0.923233</td>\n",
       "      <td>0.209091</td>\n",
       "      <td>0.204714</td>\n",
       "      <td>0.790909</td>\n",
       "      <td>00:57</td>\n",
       "    </tr>\n",
       "    <tr>\n",
       "      <td>25</td>\n",
       "      <td>0.125745</td>\n",
       "      <td>0.878527</td>\n",
       "      <td>0.200000</td>\n",
       "      <td>0.194957</td>\n",
       "      <td>0.800000</td>\n",
       "      <td>00:57</td>\n",
       "    </tr>\n",
       "    <tr>\n",
       "      <td>26</td>\n",
       "      <td>0.114454</td>\n",
       "      <td>0.830202</td>\n",
       "      <td>0.204545</td>\n",
       "      <td>0.188832</td>\n",
       "      <td>0.795455</td>\n",
       "      <td>00:57</td>\n",
       "    </tr>\n",
       "    <tr>\n",
       "      <td>27</td>\n",
       "      <td>0.099056</td>\n",
       "      <td>0.839088</td>\n",
       "      <td>0.200000</td>\n",
       "      <td>0.194373</td>\n",
       "      <td>0.800000</td>\n",
       "      <td>00:56</td>\n",
       "    </tr>\n",
       "    <tr>\n",
       "      <td>28</td>\n",
       "      <td>0.098463</td>\n",
       "      <td>0.903242</td>\n",
       "      <td>0.209091</td>\n",
       "      <td>0.184233</td>\n",
       "      <td>0.790909</td>\n",
       "      <td>00:56</td>\n",
       "    </tr>\n",
       "    <tr>\n",
       "      <td>29</td>\n",
       "      <td>0.103216</td>\n",
       "      <td>0.866750</td>\n",
       "      <td>0.209091</td>\n",
       "      <td>0.188832</td>\n",
       "      <td>0.790909</td>\n",
       "      <td>00:57</td>\n",
       "    </tr>\n",
       "  </tbody>\n",
       "</table>"
      ],
      "text/plain": [
       "<IPython.core.display.HTML object>"
      ]
     },
     "metadata": {},
     "output_type": "display_data"
    },
    {
     "name": "stdout",
     "output_type": "stream",
     "text": [
      "Better model found at epoch 0 with error_rate value: 0.41363635659217834.\n",
      "Better model found at epoch 1 with error_rate value: 0.23636363446712494.\n",
      "Better model found at epoch 9 with error_rate value: 0.20454545319080353.\n",
      "Better model found at epoch 25 with error_rate value: 0.20000000298023224.\n"
     ]
    }
   ],
   "source": [
    "learn.fit_one_cycle(30, \n",
    "                    max_lr=slice(1e-3,1e-2),\n",
    "                    callbacks=[SaveModelCallback(learn,monitor='error_rate',mode='min', name='cancer-Fast-best')])"
   ]
  },
  {
   "cell_type": "markdown",
   "metadata": {},
   "source": [
    "### How well does our model perform?\n",
    "We can see it has a roughly 80% accuracy - which is *not* bad, especially considering our small initial dataset size. A better metric for binary classifiers, however, is the Area Under the (Reciever-Operator) Curve. The AUC/ROC is somewhat confusing; however, I've found a [fantastic YouTube video](https://www.youtube.com/watch?v=4jRBRDbJemM) that explains it clearly and concisely.\n",
    "\n",
    "First, let's load our best model weights:"
   ]
  },
  {
   "cell_type": "code",
   "execution_count": 1,
   "metadata": {
    "collapsed": true
   },
   "outputs": [
    {
     "ename": "NameError",
     "evalue": "name 'learn' is not defined",
     "output_type": "error",
     "traceback": [
      "\u001b[0;31m---------------------------------------------------------------------------\u001b[0m",
      "\u001b[0;31mNameError\u001b[0m                                 Traceback (most recent call last)",
      "\u001b[0;32m<ipython-input-1-0355a6271f13>\u001b[0m in \u001b[0;36m<module>\u001b[0;34m\u001b[0m\n\u001b[1;32m      3\u001b[0m '''\n\u001b[1;32m      4\u001b[0m \u001b[0;31m#Load the best model here - since we used the SaveModel callback, we just use the following line:\u001b[0m\u001b[0;34m\u001b[0m\u001b[0;34m\u001b[0m\u001b[0m\n\u001b[0;32m----> 5\u001b[0;31m \u001b[0mlearn\u001b[0m \u001b[0;34m=\u001b[0m \u001b[0mlearn\u001b[0m\u001b[0;34m.\u001b[0m\u001b[0mload\u001b[0m\u001b[0;34m(\u001b[0m\u001b[0;34m'cancer-Fast-best'\u001b[0m\u001b[0;34m)\u001b[0m\u001b[0;34m\u001b[0m\u001b[0m\n\u001b[0m",
      "\u001b[0;31mNameError\u001b[0m: name 'learn' is not defined"
     ]
    }
   ],
   "source": [
    "#Load the best model here - since we used the SaveModel callback, we just use the following line:\n",
    "learn = learn.load('cancer-Fast-best')"
   ]
  },
  {
   "cell_type": "markdown",
   "metadata": {},
   "source": [
    "### ROC and AUC\n",
    "We'll use Fast.AI's get_preds() method to generate prediction and label vectors (again, *quite* handy), then pass the result into scikit_learn's roc_curve() method (equally handy). We can plot the result:"
   ]
  },
  {
   "cell_type": "code",
   "execution_count": 9,
   "metadata": {},
   "outputs": [
    {
     "data": {
      "image/png": "[encoded data removed]",
      "text/plain": [
       "<Figure size 648x648 with 1 Axes>"
      ]
     },
     "metadata": {
      "needs_background": "light"
     },
     "output_type": "display_data"
    }
   ],
   "source": [
    "from sklearn.metrics import roc_curve, auc\n",
    "from sklearn.metrics import roc_auc_score\n",
    "val_preds, val_targets = learn.get_preds()\n",
    "y_score = val_preds[:,1]\n",
    "y_true = val_targets\n",
    "\n",
    "fpr, tpr, _ = roc_curve(y_true, y_score)\n",
    "plt.figure(figsize=(9,9))\n",
    "plt.plot(fpr, tpr)\n",
    "plt.show()"
   ]
  },
  {
   "cell_type": "markdown",
   "metadata": {},
   "source": [
    "### Not that bad!\n",
    "Given that an optimal ROC forms a 90˚ angle at (0,1), and the worst-case scenario is a straight line on y=x, we're performing fairly well. Lastly, we can calculate the AUC score from the ROC below:"
   ]
  },
  {
   "cell_type": "code",
   "execution_count": 10,
   "metadata": {},
   "outputs": [
    {
     "data": {
      "text/plain": [
       "0.7980165289256198"
      ]
     },
     "execution_count": 10,
     "metadata": {},
     "output_type": "execute_result"
    }
   ],
   "source": [
    "roc_auc_score(y_true, y_score)"
   ]
  },
  {
   "cell_type": "markdown",
   "metadata": {},
   "source": [
    "### Done!\n",
    "An AUC of ~.8 is really not bad. We could do better with more data, but for now - well done!"
   ]
  }
 ],
 "metadata": {
  "kernelspec": {
   "display_name": "Python [conda env:data_science] *",
   "language": "python",
   "name": "conda-env-data_science-py"
  },
  "language_info": {
   "codemirror_mode": {
    "name": "ipython",
    "version": 3
   },
   "file_extension": ".py",
   "mimetype": "text/x-python",
   "name": "python",
   "nbconvert_exporter": "python",
   "pygments_lexer": "ipython3",
   "version": "3.6.7"
  }
 },
 "nbformat": 4,
 "nbformat_minor": 2
}
