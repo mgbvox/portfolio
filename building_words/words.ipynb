{
 "cells": [
  {
   "cell_type": "code",
   "execution_count": 1,
   "metadata": {},
   "outputs": [
    {
     "name": "stdout",
     "output_type": "stream",
     "text": [
      "Populating the interactive namespace from numpy and matplotlib\n"
     ]
    }
   ],
   "source": [
    "%pylab inline\n",
    "import nltk\n",
    "from nltk.corpus import words"
   ]
  },
  {
   "cell_type": "code",
   "execution_count": 2,
   "metadata": {},
   "outputs": [],
   "source": [
    "#Grab all english words.\n",
    "w = words.words()"
   ]
  },
  {
   "cell_type": "code",
   "execution_count": 3,
   "metadata": {},
   "outputs": [],
   "source": [
    "#Sort each word's characters in lowercase; store in sequence.\n",
    "w_proc = [''.join(sorted(s.lower())) for s in w]"
   ]
  },
  {
   "cell_type": "code",
   "execution_count": 4,
   "metadata": {},
   "outputs": [],
   "source": [
    "#Map each processed word to every word that shares its characters.\n",
    "w_map = {}\n",
    "for i, s in enumerate(w_proc):\n",
    "    word = w[i]\n",
    "    if w_map.get(s):\n",
    "        w_map[s].append(word)\n",
    "    else:\n",
    "        w_map[s] = [word]"
   ]
  },
  {
   "cell_type": "code",
   "execution_count": 5,
   "metadata": {},
   "outputs": [],
   "source": [
    "import itertools as it\n",
    "#Get all possible character combinations for a given string of all lengths.\n",
    "def get_combs(s):\n",
    "    res = [[''.join(sorted(c)).strip() for c in it.combinations(s,i)] for i in range(len(s))]\n",
    "    combs = []\n",
    "    for l in res:\n",
    "        combs += l\n",
    "    combs = set(combs)\n",
    "    return combs"
   ]
  },
  {
   "cell_type": "code",
   "execution_count": 6,
   "metadata": {},
   "outputs": [],
   "source": [
    "#Find matching words that can be constructed from these combs.\n",
    "def get_buildable(s):\n",
    "\n",
    "    c = get_combs(s)\n",
    "    buildable = []\n",
    "    for x in c:\n",
    "        match = w_map.get(x)\n",
    "        if match:\n",
    "            buildable += [s.lower() for s in match]\n",
    "    \n",
    "    return set(buildable)"
   ]
  },
  {
   "cell_type": "code",
   "execution_count": 7,
   "metadata": {},
   "outputs": [
    {
     "name": "stdout",
     "output_type": "stream",
     "text": [
      "INFO: Pandarallel will run on 8 workers.\n",
      "INFO: Pandarallel will use standard multiprocessing data tranfer (pipe) to transfer data between the main process and workers.\n"
     ]
    }
   ],
   "source": [
    "#Parallelize it!\n",
    "import pandas as pd\n",
    "# Import\n",
    "from pandarallel import pandarallel\n",
    "\n",
    "# Initialization\n",
    "pandarallel.initialize(progress_bar=True)"
   ]
  },
  {
   "cell_type": "code",
   "execution_count": 8,
   "metadata": {},
   "outputs": [
    {
     "data": {
      "application/vnd.jupyter.widget-view+json": {
       "model_id": "57110a5fe03249a8821ec0cf409500ea",
       "version_major": 2,
       "version_minor": 0
      },
      "text/plain": [
       "VBox(children=(HBox(children=(IntProgress(value=0, description='0.00%', max=29592), Label(value='0 / 29592')))…"
      ]
     },
     "metadata": {},
     "output_type": "display_data"
    }
   ],
   "source": [
    "'''\n",
    "TODO: run this\n",
    "NOTE: Takes VERY long time to run - save results!\n",
    "'''\n",
    "#Run the above function for ALL words.\n",
    "bfreqs = pd.Series(w).parallel_apply(lambda x: len(get_buildable(x)))"
   ]
  },
  {
   "cell_type": "code",
   "execution_count": 10,
   "metadata": {},
   "outputs": [
    {
     "name": "stderr",
     "output_type": "stream",
     "text": [
      "/Users/mgbvox/anaconda3/envs/data_science/lib/python3.6/site-packages/ipykernel_launcher.py:1: FutureWarning: The signature of `Series.to_csv` was aligned to that of `DataFrame.to_csv`, and argument 'header' will change its default value from False to True: please pass an explicit value to suppress this warning.\n",
      "  \"\"\"Entry point for launching an IPython kernel.\n"
     ]
    }
   ],
   "source": [
    "bfreqs.to_csv('bfreqs')"
   ]
  },
  {
   "cell_type": "code",
   "execution_count": 23,
   "metadata": {},
   "outputs": [
    {
     "data": {
      "text/plain": [
       "158764    0.137102\n",
       "23601     0.093535\n",
       "158763    0.092867\n",
       "187326    0.091292\n",
       "158627    0.080904\n",
       "            ...   \n",
       "226497    0.000000\n",
       "226498    0.000000\n",
       "234937    0.000000\n",
       "67699     0.000000\n",
       "0         0.000000\n",
       "Length: 236736, dtype: float64"
      ]
     },
     "execution_count": 23,
     "metadata": {},
     "output_type": "execute_result"
    }
   ],
   "source": [
    "bfreqs.sort_values(ascending=False)/len(w)"
   ]
  },
  {
   "cell_type": "code",
   "execution_count": 12,
   "metadata": {},
   "outputs": [
    {
     "data": {
      "text/plain": [
       "'pseudolamellibranchiate'"
      ]
     },
     "execution_count": 12,
     "metadata": {},
     "output_type": "execute_result"
    }
   ],
   "source": [
    "w[158764]"
   ]
  }
 ],
 "metadata": {
  "kernelspec": {
   "display_name": "Python 3",
   "language": "python",
   "name": "python3"
  },
  "language_info": {
   "codemirror_mode": {
    "name": "ipython",
    "version": 3
   },
   "file_extension": ".py",
   "mimetype": "text/x-python",
   "name": "python",
   "nbconvert_exporter": "python",
   "pygments_lexer": "ipython3",
   "version": "3.6.7"
  }
 },
 "nbformat": 4,
 "nbformat_minor": 2
}
