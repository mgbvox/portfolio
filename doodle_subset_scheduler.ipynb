{
 "cells": [
  {
   "cell_type": "markdown",
   "metadata": {},
   "source": [
    "# Doodle Subset Scheduler\n",
    "\n",
    "This script takes an exported Doodle.xls file, and allows\n",
    "you to filter availabiltiy for subsets of the respondents.\n",
    "**Super** useful if, like me, you run a music production company\n",
    "and need to schedule sectional rehearsals!\n"
   ]
  },
  {
   "cell_type": "code",
   "execution_count": 6,
   "metadata": {},
   "outputs": [],
   "source": [
    "#Imports\n",
    "import pandas as pd"
   ]
  },
  {
   "cell_type": "code",
   "execution_count": 7,
   "metadata": {},
   "outputs": [],
   "source": [
    "#Read in the raw Doodle export (will implement Doodle API pulldown later.)\n",
    "raw = pd.read_excel('Doodle.xls')"
   ]
  },
  {
   "cell_type": "code",
   "execution_count": 8,
   "metadata": {},
   "outputs": [],
   "source": [
    "#Reformat the header so it makes sense in Pandas.\n",
    "dates = raw.iloc[3]\\\n",
    "        .fillna(method='ffill')\\\n",
    "        .fillna('Names')\\\n",
    "        .str.split(' ')\\\n",
    "        .apply(lambda x: x[-1])\n",
    "new_header = dates + ' | ' + raw.iloc[4].fillna('')"
   ]
  },
  {
   "cell_type": "code",
   "execution_count": 9,
   "metadata": {},
   "outputs": [],
   "source": [
    "#Grab the rest of the DF and rename the columns accordingly:\n",
    "df = raw.iloc[5:]\n",
    "df.columns = new_header\n",
    "df = df.rename(columns={'Names | ':'names'}).reset_index(drop=True)\n",
    "\n",
    "#This bit takes care of indexing issues with NaN.\n",
    "df['names'] = df['names'].fillna('')"
   ]
  },
  {
   "cell_type": "code",
   "execution_count": 12,
   "metadata": {},
   "outputs": [
    {
     "name": "stdin",
     "output_type": "stream",
     "text": [
      "Input names separated by spaces:  Matthew Alexander Mady Anneka NotAPerson\n"
     ]
    }
   ],
   "source": [
    "#Input the names you want to filter availability for\n",
    "#You can copy paste directly from Excel or Google Sheets!\n",
    "names = input('Input names separated by spaces: ').split(' ')"
   ]
  },
  {
   "cell_type": "code",
   "execution_count": 13,
   "metadata": {},
   "outputs": [
    {
     "name": "stdout",
     "output_type": "stream",
     "text": [
      "NotAPerson hasn't responded yet.\n"
     ]
    }
   ],
   "source": [
    "#Grab every row that matches the names you input,\n",
    "#And concat them into a new DF for further processing:\n",
    "res_rows = []\n",
    "for name in names:\n",
    "        res = df[df['names'].str.contains(name)]\n",
    "        if len(res) > 0:\n",
    "            res_rows.append(res)\n",
    "        else:\n",
    "            #If the name doesn't appear in the list, log that here.\n",
    "            print(\"{} hasn't responded yet.\".format(name))\n",
    "res = pd.concat(res_rows,axis=0)"
   ]
  },
  {
   "cell_type": "code",
   "execution_count": 14,
   "metadata": {},
   "outputs": [
    {
     "data": {
      "text/plain": [
       "25 | 8:00 PM – 9:00 PM    4\n",
       "25 | 7:00 PM – 8:00 PM    4\n",
       "25 | 6:00 PM – 7:00 PM    4\n",
       "24 | 7:00 PM – 8:00 PM    4\n",
       "24 | 6:00 PM – 7:00 PM    4\n",
       "dtype: int64"
      ]
     },
     "execution_count": 14,
     "metadata": {},
     "output_type": "execute_result"
    }
   ],
   "source": [
    "#Count 'OKs' in all columns, ignoring the Names column.\n",
    "count_sorted = res.count().iloc[1:].sort_values(ascending=False)\n",
    "#Grab the maximum shared availabilities:\n",
    "max_count = max(count_sorted)\n",
    "\n",
    "#Grab JUST the dates with the maximum number of availabilities:\n",
    "best = count_sorted[count_sorted==max_count]\n",
    "best"
   ]
  },
  {
   "cell_type": "code",
   "execution_count": 15,
   "metadata": {},
   "outputs": [
    {
     "name": "stdout",
     "output_type": "stream",
     "text": [
      "                        day  count\n",
      "24 | 7:00 PM – 8:00 PM   24      4\n",
      "24 | 6:00 PM – 7:00 PM   24      4\n",
      "25 | 8:00 PM – 9:00 PM   25      4\n",
      "25 | 7:00 PM – 8:00 PM   25      4\n",
      "25 | 6:00 PM – 7:00 PM   25      4\n"
     ]
    }
   ],
   "source": [
    "#Add a new column so we can sort by day number:\n",
    "new_col = pd.Series(best.index.str.split(' | ')).apply(lambda x: int(x[0]))\n",
    "new_col = new_col.rename(index=dict(zip(new_col.index,best.index)))\n",
    "best = pd.concat([best,new_col],axis=1).rename(columns={0:'count',1:'day'})\n",
    "#Sort by day number, and output to the user!\n",
    "print(best.sort_values('day')[['day','count']])"
   ]
  }
 ],
 "metadata": {
  "kernelspec": {
   "display_name": "Python 3",
   "language": "python",
   "name": "python3"
  },
  "language_info": {
   "codemirror_mode": {
    "name": "ipython",
    "version": 3
   },
   "file_extension": ".py",
   "mimetype": "text/x-python",
   "name": "python",
   "nbconvert_exporter": "python",
   "pygments_lexer": "ipython3",
   "version": "3.7.1"
  }
 },
 "nbformat": 4,
 "nbformat_minor": 2
}
