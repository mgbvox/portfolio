{
 "cells": [
  {
   "cell_type": "markdown",
   "metadata": {},
   "source": [
    "#### Reinforcement Learning:\n",
    "# Multi-Armed Bandits\n",
    "### An Upper Confidence Bound Solution\n",
    "\n",
    "The Multi-Armed Bandid Problem can be described thus: Given N choices of actions to take, each with a distinct (and unknown) probability P of generating a reward, devise a strategy to test each choice so that final, cumulative reward is maximized. This has many concrete applications in the real world: Which path to take in a maze, where/when to move troops in battle, which restaurant to choose when navigating an unknown neighborhood for dinner, how best to allocate funds to research teams working on unproven/risky projects, etc... Anywhere where there is a tradeoff between risk and exploration, there exists some Doc-Octopusesque Thief presenting some variation of this conundrum.\n",
    "\n",
    "Herein, I implement a solution to the Multi-Armed Bandit problem following the Upper Confidence Bound method.\n",
    "\n",
    "Side note: \n",
    "_For more on solutions to the Multi-Armed Bandit problem, please see Lilian Weng's fantastic article [\"The Multi-Armed Bandit Problem and Its Solutions\"](https://lilianweng.github.io/lil-log/2018/01/23/the-multi-armed-bandit-problem-and-its-solutions.html)_\n"
   ]
  },
  {
   "cell_type": "code",
   "execution_count": 128,
   "metadata": {},
   "outputs": [
    {
     "name": "stdout",
     "output_type": "stream",
     "text": [
      "Populating the interactive namespace from numpy and matplotlib\n"
     ]
    }
   ],
   "source": [
    "%pylab inline\n",
    "%reload_ext autoreload\n",
    "%autoreload 2\n",
    "\n",
    "import pandas as pd\n",
    "from bandit_utils import *"
   ]
  },
  {
   "cell_type": "markdown",
   "metadata": {},
   "source": [
    "#### Bandit Class\n",
    "A Bandit is a simple object with some probability of producing a reward. </br>\n",
    "This probability is randomly chosen by default, but can be set for demonstration purposes.</br>\n",
    "Let's look at a couple:"
   ]
  },
  {
   "cell_type": "code",
   "execution_count": 129,
   "metadata": {},
   "outputs": [
    {
     "data": {
      "text/plain": [
       "[B: 0.1%, B: 0.3%, B: 0.5%, B: 0.7%, B: 0.9%]"
      ]
     },
     "execution_count": 129,
     "metadata": {},
     "output_type": "execute_result"
    }
   ],
   "source": [
    "n_bandits = 5\n",
    "probs = (np.arange(1,n_bandits+1)/(n_bandits))-.1\n",
    "bandits = [Bandit(p=p, r=1) for p in probs]\n",
    "bandits"
   ]
  },
  {
   "cell_type": "markdown",
   "metadata": {},
   "source": [
    "These Bandits can be pinged for a reward, granted according to their internal reward probability:"
   ]
  },
  {
   "cell_type": "code",
   "execution_count": 130,
   "metadata": {},
   "outputs": [
    {
     "name": "stdout",
     "output_type": "stream",
     "text": [
      "Low probability bandit reward chain:\n",
      "[0, 0, 0, 0, 0, 1, 0, 0, 0, 0]\n",
      "\n",
      "High probability bandit reward chain:\n",
      "[0, 1, 0, 1, 0, 1, 1, 1, 1, 1]\n"
     ]
    }
   ],
   "source": [
    "print('Low probability bandit reward chain:')\n",
    "b_low_prob = bandits[0]\n",
    "print([b_low_prob.get_reward() for _ in range(10)])\n",
    "print()\n",
    "\n",
    "print('High probability bandit reward chain:')\n",
    "b_high_prob = bandits[3]\n",
    "print([b_high_prob.get_reward() for _ in range(10)])"
   ]
  },
  {
   "cell_type": "markdown",
   "metadata": {},
   "source": [
    "#### UCBAgent Class\n",
    "The UCBAgent class takes an array of bandits, and pings them according to their expected probability of reward, modulated by an exploration factor. The resulting reward is tracked in a history dictionary, which is used to update the expected probability for each bandit at every time step."
   ]
  },
  {
   "cell_type": "code",
   "execution_count": 131,
   "metadata": {},
   "outputs": [],
   "source": [
    "g = UCBAgent(bandits)\n",
    "n_steps = 100\n",
    "g.run(n_steps)"
   ]
  },
  {
   "cell_type": "markdown",
   "metadata": {},
   "source": [
    "You can see that, even after only 100 iterations, the Agent has learned to pull the higher probability arms more often."
   ]
  },
  {
   "cell_type": "code",
   "execution_count": 132,
   "metadata": {},
   "outputs": [
    {
     "data": {
      "text/plain": [
       "{0: array([1., 0., 0., 0., 0., 0., 0.]),\n",
       " 1: array([0., 0., 0., 1., 0., 1., 0., 0.]),\n",
       " 2: array([0., 0., 1., 1., 1., 0., 0., 0., 0.]),\n",
       " 3: array([0., 0., 0., 1., 0., 1., 1., 1., 1., 1., 1., 1., 1., 1., 1., 1., 1.,\n",
       "        1., 0., 1., 0., 0.]),\n",
       " 4: array([1., 1., 1., 1., 1., 0., 1., 1., 1., 1., 1., 1., 1., 1., 1., 1., 1.,\n",
       "        1., 1., 1., 1., 1., 1., 1., 1., 1., 1., 1., 1., 1., 1., 1., 1., 1.,\n",
       "        1., 1., 1., 1., 1., 1., 1., 1., 1., 1., 1., 1., 1., 1., 1., 1., 1.,\n",
       "        0., 1., 1.])}"
      ]
     },
     "execution_count": 132,
     "metadata": {},
     "output_type": "execute_result"
    }
   ],
   "source": [
    "g.bandit_history"
   ]
  },
  {
   "cell_type": "markdown",
   "metadata": {},
   "source": [
    "With more iterations, the Agent gets closer and closer to knowing the true probability of each arm:"
   ]
  },
  {
   "cell_type": "code",
   "execution_count": 133,
   "metadata": {},
   "outputs": [
    {
     "name": "stdout",
     "output_type": "stream",
     "text": [
      "Expectation at 0 iterations:\n",
      "(Expectation | Ground Truth)\n",
      "1 | 0.1\n",
      "1 | 0.3\n",
      "1 | 0.5\n",
      "1 | 0.7\n",
      "1 | 0.9\n",
      "\n",
      "Expectation at 20 iterations:\n",
      "(Expectation | Ground Truth)\n",
      "0.33 | 0.1\n",
      "0.17 | 0.3\n",
      "0.17 | 0.5\n",
      "0.8 | 0.7\n",
      "0.92 | 0.9\n",
      "\n",
      "Expectation at 40 iterations:\n",
      "(Expectation | Ground Truth)\n",
      "0.31 | 0.1\n",
      "0.36 | 0.3\n",
      "0.5 | 0.5\n",
      "0.72 | 0.7\n",
      "0.87 | 0.9\n",
      "\n",
      "Expectation at 60 iterations:\n",
      "(Expectation | Ground Truth)\n",
      "0.27 | 0.1\n",
      "0.39 | 0.3\n",
      "0.48 | 0.5\n",
      "0.69 | 0.7\n",
      "0.89 | 0.9\n",
      "\n",
      "Expectation at 80 iterations:\n",
      "(Expectation | Ground Truth)\n",
      "0.25 | 0.1\n",
      "0.35 | 0.3\n",
      "0.46 | 0.5\n",
      "0.66 | 0.7\n",
      "0.89 | 0.9\n",
      "\n"
     ]
    }
   ],
   "source": [
    "g = UCBAgent(bandits)\n",
    "n_steps = 100\n",
    "for s in range(n_steps):\n",
    "    if (s)%20==0:\n",
    "        print(f'Expectation at {s} iterations:')\n",
    "        print('(Expectation | Ground Truth)')\n",
    "        for i,b in g.bandits.items():\n",
    "            print(np.round(g.expectation[i],2), '|', b.p)\n",
    "        print()\n",
    "    g.run(i)"
   ]
  },
  {
   "cell_type": "markdown",
   "metadata": {},
   "source": [
    "#### Performance\n",
    "As the UCBAgent's internal representation of the bandits evolves, it's average reward improves asymptotically toward the probabiliy of the best bandit (here, .9):"
   ]
  },
  {
   "cell_type": "code",
   "execution_count": 134,
   "metadata": {},
   "outputs": [
    {
     "data": {
      "text/plain": [
       "Text(0, 0.5, 'Average Expected Reward')"
      ]
     },
     "execution_count": 134,
     "metadata": {},
     "output_type": "execute_result"
    },
    {
     "data": {
      "image/png": "[encoded data removed]",
      "text/plain": [
       "<Figure size 432x288 with 1 Axes>"
      ]
     },
     "metadata": {
      "needs_background": "light"
     },
     "output_type": "display_data"
    }
   ],
   "source": [
    "g = UCBAgent(bandits)\n",
    "n_steps = 1000\n",
    "g.run(n_steps)\n",
    "v = pd.Series(g.reward_history).cumsum()/pd.Series(range(n_steps)).iloc[1:]\n",
    "v.plot()\n",
    "plt.title('Average Reward over Time')\n",
    "plt.xlabel('Iterations')\n",
    "plt.ylabel('Average Expected Reward')"
   ]
  },
  {
   "cell_type": "markdown",
   "metadata": {},
   "source": [
    "#### How does this compare?\n",
    "\n",
    "A random agent acting on this distribution of Bandits would expect an average reward of:"
   ]
  },
  {
   "cell_type": "code",
   "execution_count": 135,
   "metadata": {},
   "outputs": [
    {
     "name": "stdout",
     "output_type": "stream",
     "text": [
      "0.5\n"
     ]
    }
   ],
   "source": [
    "r_rwd = np.average([b.p for b in bandits])\n",
    "print(r_rwd)"
   ]
  },
  {
   "cell_type": "markdown",
   "metadata": {},
   "source": [
    "The UCBAgent Model overtakes this almost immediately!"
   ]
  },
  {
   "cell_type": "code",
   "execution_count": 127,
   "metadata": {},
   "outputs": [
    {
     "data": {
      "text/plain": [
       "<matplotlib.legend.Legend at 0x7fbac0fda240>"
      ]
     },
     "execution_count": 127,
     "metadata": {},
     "output_type": "execute_result"
    },
    {
     "data": {
      "image/png": "[encoded data removed]",
      "text/plain": [
       "<Figure size 432x288 with 1 Axes>"
      ]
     },
     "metadata": {
      "needs_background": "light"
     },
     "output_type": "display_data"
    }
   ],
   "source": [
    "r_rwd = np.average([b.p for b in bandits])\n",
    "pd.Series([r_rwd]*n_steps).plot()\n",
    "v.plot()\n",
    "plt.legend(['Random Agent Reward (Idealized)', 'UCBAgent Reward'])"
   ]
  }
 ],
 "metadata": {
  "kernelspec": {
   "display_name": "Python 3",
   "language": "python",
   "name": "python3"
  },
  "language_info": {
   "codemirror_mode": {
    "name": "ipython",
    "version": 3
   },
   "file_extension": ".py",
   "mimetype": "text/x-python",
   "name": "python",
   "nbconvert_exporter": "python",
   "pygments_lexer": "ipython3",
   "version": "3.7.3"
  }
 },
 "nbformat": 4,
 "nbformat_minor": 4
}
